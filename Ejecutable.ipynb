{
 "cells": [
  {
   "cell_type": "markdown",
   "metadata": {
    "id": "sB6fhW-Q1b4N"
   },
   "source": [
    "# Instalar"
   ]
  },
  {
   "cell_type": "code",
   "execution_count": 9,
   "metadata": {
    "colab": {
     "base_uri": "https://localhost:8080/"
    },
    "executionInfo": {
     "elapsed": 9208,
     "status": "ok",
     "timestamp": 1730338125269,
     "user": {
      "displayName": "Marcela Flaibani",
      "userId": "06388299677795656548"
     },
     "user_tz": 180
    },
    "id": "d9cbf9k-en-X",
    "outputId": "5386b48e-93b9-4103-a434-fb18fc5c9b3e"
   },
   "outputs": [
    {
     "name": "stdout",
     "output_type": "stream",
     "text": [
      "Requirement already satisfied: transformers in c:\\users\\flaib\\appdata\\local\\programs\\python\\python310\\lib\\site-packages (4.46.1)\n",
      "Requirement already satisfied: sentence_transformers in c:\\users\\flaib\\appdata\\local\\programs\\python\\python310\\lib\\site-packages (3.2.1)\n",
      "Requirement already satisfied: filelock in c:\\users\\flaib\\appdata\\local\\programs\\python\\python310\\lib\\site-packages (from transformers) (3.16.1)\n",
      "Requirement already satisfied: huggingface-hub<1.0,>=0.23.2 in c:\\users\\flaib\\appdata\\local\\programs\\python\\python310\\lib\\site-packages (from transformers) (0.26.2)\n",
      "Requirement already satisfied: numpy>=1.17 in c:\\users\\flaib\\appdata\\local\\programs\\python\\python310\\lib\\site-packages (from transformers) (1.24.4)\n",
      "Requirement already satisfied: packaging>=20.0 in c:\\users\\flaib\\appdata\\local\\programs\\python\\python310\\lib\\site-packages (from transformers) (24.1)\n",
      "Requirement already satisfied: pyyaml>=5.1 in c:\\users\\flaib\\appdata\\local\\programs\\python\\python310\\lib\\site-packages (from transformers) (5.4.1)\n",
      "Requirement already satisfied: regex!=2019.12.17 in c:\\users\\flaib\\appdata\\local\\programs\\python\\python310\\lib\\site-packages (from transformers) (2022.9.11)\n",
      "Requirement already satisfied: requests in c:\\users\\flaib\\appdata\\local\\programs\\python\\python310\\lib\\site-packages (from transformers) (2.28.1)\n",
      "Requirement already satisfied: safetensors>=0.4.1 in c:\\users\\flaib\\appdata\\local\\programs\\python\\python310\\lib\\site-packages (from transformers) (0.4.5)\n",
      "Requirement already satisfied: tokenizers<0.21,>=0.20 in c:\\users\\flaib\\appdata\\local\\programs\\python\\python310\\lib\\site-packages (from transformers) (0.20.2)\n",
      "Requirement already satisfied: tqdm>=4.27 in c:\\users\\flaib\\appdata\\local\\programs\\python\\python310\\lib\\site-packages (from transformers) (4.64.1)\n",
      "Requirement already satisfied: torch>=1.11.0 in c:\\users\\flaib\\appdata\\local\\programs\\python\\python310\\lib\\site-packages (from sentence_transformers) (2.5.1)\n",
      "Requirement already satisfied: scikit-learn in c:\\users\\flaib\\appdata\\local\\programs\\python\\python310\\lib\\site-packages (from sentence_transformers) (1.5.2)\n",
      "Requirement already satisfied: scipy in c:\\users\\flaib\\appdata\\local\\programs\\python\\python310\\lib\\site-packages (from sentence_transformers) (1.9.1)\n",
      "Requirement already satisfied: Pillow in c:\\users\\flaib\\appdata\\local\\programs\\python\\python310\\lib\\site-packages (from sentence_transformers) (9.2.0)\n",
      "Requirement already satisfied: fsspec>=2023.5.0 in c:\\users\\flaib\\appdata\\local\\programs\\python\\python310\\lib\\site-packages (from huggingface-hub<1.0,>=0.23.2->transformers) (2024.10.0)\n",
      "Requirement already satisfied: typing-extensions>=3.7.4.3 in c:\\users\\flaib\\appdata\\local\\programs\\python\\python310\\lib\\site-packages (from huggingface-hub<1.0,>=0.23.2->transformers) (4.12.2)\n",
      "Requirement already satisfied: networkx in c:\\users\\flaib\\appdata\\local\\programs\\python\\python310\\lib\\site-packages (from torch>=1.11.0->sentence_transformers) (2.8.8)\n",
      "Requirement already satisfied: jinja2 in c:\\users\\flaib\\appdata\\local\\programs\\python\\python310\\lib\\site-packages (from torch>=1.11.0->sentence_transformers) (3.1.2)\n",
      "Requirement already satisfied: sympy==1.13.1 in c:\\users\\flaib\\appdata\\local\\programs\\python\\python310\\lib\\site-packages (from torch>=1.11.0->sentence_transformers) (1.13.1)\n",
      "Requirement already satisfied: mpmath<1.4,>=1.1.0 in c:\\users\\flaib\\appdata\\local\\programs\\python\\python310\\lib\\site-packages (from sympy==1.13.1->torch>=1.11.0->sentence_transformers) (1.3.0)\n",
      "Requirement already satisfied: colorama in c:\\users\\flaib\\appdata\\local\\programs\\python\\python310\\lib\\site-packages (from tqdm>=4.27->transformers) (0.4.6)\n",
      "Requirement already satisfied: charset-normalizer<3,>=2 in c:\\users\\flaib\\appdata\\local\\programs\\python\\python310\\lib\\site-packages (from requests->transformers) (2.1.1)\n",
      "Requirement already satisfied: idna<4,>=2.5 in c:\\users\\flaib\\appdata\\local\\programs\\python\\python310\\lib\\site-packages (from requests->transformers) (3.3)\n",
      "Requirement already satisfied: urllib3<1.27,>=1.21.1 in c:\\users\\flaib\\appdata\\local\\programs\\python\\python310\\lib\\site-packages (from requests->transformers) (1.26.12)\n",
      "Requirement already satisfied: certifi>=2017.4.17 in c:\\users\\flaib\\appdata\\local\\programs\\python\\python310\\lib\\site-packages (from requests->transformers) (2022.6.15.1)\n",
      "Requirement already satisfied: joblib>=1.2.0 in c:\\users\\flaib\\appdata\\local\\programs\\python\\python310\\lib\\site-packages (from scikit-learn->sentence_transformers) (1.4.2)\n",
      "Requirement already satisfied: threadpoolctl>=3.1.0 in c:\\users\\flaib\\appdata\\local\\programs\\python\\python310\\lib\\site-packages (from scikit-learn->sentence_transformers) (3.1.0)\n",
      "Requirement already satisfied: MarkupSafe>=2.0 in c:\\users\\flaib\\appdata\\local\\programs\\python\\python310\\lib\\site-packages (from jinja2->torch>=1.11.0->sentence_transformers) (2.1.1)\n",
      "Note: you may need to restart the kernel to use updated packages.\n",
      "Requirement already satisfied: sacremoses in c:\\users\\flaib\\appdata\\local\\programs\\python\\python310\\lib\\site-packages (0.1.1)\n",
      "Requirement already satisfied: regex in c:\\users\\flaib\\appdata\\local\\programs\\python\\python310\\lib\\site-packages (from sacremoses) (2022.9.11)\n",
      "Requirement already satisfied: click in c:\\users\\flaib\\appdata\\local\\programs\\python\\python310\\lib\\site-packages (from sacremoses) (8.1.3)\n",
      "Requirement already satisfied: joblib in c:\\users\\flaib\\appdata\\local\\programs\\python\\python310\\lib\\site-packages (from sacremoses) (1.4.2)\n",
      "Requirement already satisfied: tqdm in c:\\users\\flaib\\appdata\\local\\programs\\python\\python310\\lib\\site-packages (from sacremoses) (4.64.1)\n",
      "Requirement already satisfied: colorama in c:\\users\\flaib\\appdata\\local\\programs\\python\\python310\\lib\\site-packages (from click->sacremoses) (0.4.6)\n",
      "Note: you may need to restart the kernel to use updated packages.\n"
     ]
    }
   ],
   "source": [
    "%pip install transformers sentence_transformers\n",
    "%pip install sacremoses"
   ]
  },
  {
   "cell_type": "markdown",
   "metadata": {
    "id": "jvw8RK361kWM"
   },
   "source": [
    "# Librerías"
   ]
  },
  {
   "cell_type": "code",
   "execution_count": 10,
   "metadata": {
    "executionInfo": {
     "elapsed": 10,
     "status": "ok",
     "timestamp": 1730338125269,
     "user": {
      "displayName": "Marcela Flaibani",
      "userId": "06388299677795656548"
     },
     "user_tz": 180
    },
    "id": "jcd8kEI6b35L"
   },
   "outputs": [],
   "source": [
    "# from google.colab import drive\n",
    "import pandas as pd\n",
    "import requests\n",
    "from io import BytesIO\n",
    "from sentence_transformers import SentenceTransformer, util\n",
    "from transformers import MarianMTModel, MarianTokenizer\n",
    "\n",
    "import ipywidgets as widgets\n",
    "from IPython.display import display\n",
    "import torch\n",
    "import joblib\n",
    "from joblib import load\n",
    "\n",
    "from transformers import MarianMTModel, MarianTokenizer\n",
    "\n",
    "import warnings\n",
    "# Ignorar todas las advertencias\n",
    "warnings.filterwarnings(\"ignore\")"
   ]
  },
  {
   "cell_type": "markdown",
   "metadata": {
    "id": "AHuroxyC1oQD"
   },
   "source": [
    "# Funciones"
   ]
  },
  {
   "cell_type": "code",
   "execution_count": 11,
   "metadata": {
    "executionInfo": {
     "elapsed": 10,
     "status": "ok",
     "timestamp": 1730338125269,
     "user": {
      "displayName": "Marcela Flaibani",
      "userId": "06388299677795656548"
     },
     "user_tz": 180
    },
    "id": "_6CiG_Nw06LY"
   },
   "outputs": [],
   "source": [
    "def get_mood(model, model_LR_Em, new_phrase):\n",
    "  # Inicializar el modelo\n",
    "  model = SentenceTransformer('intfloat/multilingual-e5-small')\n",
    "  # Diccionario de etiquetas\n",
    "  labels_dicc = {0: \"Alegre\", 1: \"Neutral\", 2: \"Triste\"}\n",
    "\n",
    "  # Vectorización de la nueva frase usando el vectorizador con el que entrenamos el modelo\n",
    "  new_phrase_vectorized = model.encode([new_phrase])\n",
    "\n",
    "  # Usa el modelo entrenado para predecir la etiqueta de la frase\n",
    "  new_prediction = model_LR_Em.predict(new_phrase_vectorized)[0]\n",
    "\n",
    "  # Retorna la etiqueta predicha\n",
    "  print(f\"La frase '{new_phrase}' pertenece a la categoría: {labels_dicc[new_prediction]}\")\n",
    "  if labels_dicc[new_prediction] == \"Alegre\":\n",
    "    return \"My mood is happy and \"\n",
    "  elif labels_dicc[new_prediction] == \"Neutral\":\n",
    "    return \"My mood is neutral and \"\n",
    "  else:\n",
    "    return \"My mood is sad and \""
   ]
  },
  {
   "cell_type": "code",
   "execution_count": 12,
   "metadata": {
    "executionInfo": {
     "elapsed": 10,
     "status": "ok",
     "timestamp": 1730338125270,
     "user": {
      "displayName": "Marcela Flaibani",
      "userId": "06388299677795656548"
     },
     "user_tz": 180
    },
    "id": "SwYTxevoGaDa"
   },
   "outputs": [],
   "source": [
    "def translate(model_es_en, tokenizer_es_en, model_en_es, tokenizer_en_es, text, target_language='en'):\n",
    "# def translate(text, target_language='en'):\n",
    "    if target_language == 'en':\n",
    "        # Traducción de español a inglés\n",
    "        tokenizer = tokenizer_es_en\n",
    "        model = model_es_en\n",
    "    else:\n",
    "        # Traducción de inglés a español\n",
    "        tokenizer = tokenizer_en_es\n",
    "        model = model_en_es\n",
    "\n",
    "    # Tokenización y traducción\n",
    "    tokens = tokenizer(text, return_tensors=\"pt\", padding=True)\n",
    "    translated_tokens = model.generate(**tokens)\n",
    "    translated_text = tokenizer.decode(translated_tokens[0], skip_special_tokens=True)\n",
    "\n",
    "    return translated_text"
   ]
  },
  {
   "cell_type": "code",
   "execution_count": 13,
   "metadata": {
    "executionInfo": {
     "elapsed": 10,
     "status": "ok",
     "timestamp": 1730338125270,
     "user": {
      "displayName": "Marcela Flaibani",
      "userId": "06388299677795656548"
     },
     "user_tz": 180
    },
    "id": "ijlpAahXgx8G"
   },
   "outputs": [],
   "source": [
    "# Función para obtener recomendaciones usando embeddings ya calculados\n",
    "def get_recommendations(model, precomputed_embeddings, user_preference, titles, top_n=3):\n",
    "    # Generar el embedding para la preferencia del usuario\n",
    "    user_embedding = model.encode(user_preference, convert_to_tensor=True)\n",
    "\n",
    "    # Calcular similitudes de coseno entre el embedding del usuario y las descripciones ya embebidas\n",
    "    cosine_similarities = util.cos_sim(user_embedding, precomputed_embeddings)[0]\n",
    "    similar_indices = cosine_similarities.argsort(descending=True)[:top_n].tolist()\n",
    "\n",
    "    # Extraer las recomendaciones\n",
    "    recommendations = [(titles.iloc[i], cosine_similarities[i].item()) for i in similar_indices]\n",
    "    return recommendations"
   ]
  },
  {
   "cell_type": "code",
   "execution_count": 14,
   "metadata": {},
   "outputs": [],
   "source": [
    "# Función para descargar y cargar el archivo\n",
    "def download_and_load(url):\n",
    "    response = requests.get(url)\n",
    "    response.raise_for_status()  # Verifica que la descarga fue exitosa\n",
    "    return torch.load(BytesIO(response.content), map_location='cpu')"
   ]
  },
  {
   "cell_type": "code",
   "execution_count": 15,
   "metadata": {},
   "outputs": [],
   "source": [
    "def load_model_github(url):\n",
    "    # Descarga el archivo desde GitHub\n",
    "    response = requests.get(url)\n",
    "    response.raise_for_status()  # Verifica que la descarga fue exitosa\n",
    "    \n",
    "    # Carga el contenido con joblib\n",
    "    modelo = joblib.load(BytesIO(response.content))\n",
    "    return modelo\n"
   ]
  },
  {
   "cell_type": "markdown",
   "metadata": {},
   "source": [
    "# Programa Principal"
   ]
  },
  {
   "cell_type": "code",
   "execution_count": null,
   "metadata": {
    "colab": {
     "base_uri": "https://localhost:8080/",
     "height": 147,
     "referenced_widgets": [
      "7657644b06f5462e9edabdaec74b2fc6",
      "751b90faafe04d37a845b52a35a9632c",
      "eb77873f3eca454cad901aff6892eaa3",
      "e87c10a5e14a482a8eef9a0d02f67343",
      "02d8e9359111442ba6c4339eaff5a070",
      "cac20ec86c3849528d82c563f3b39b92",
      "249d2ce8398a4b27b4f8ee1bbec99269",
      "6a6bd78a5e9e4e3491247cbd0e9d4371",
      "6f2bbb6d433c4b12b6bec22cf25b9255",
      "b8dea8236fe4421f925a856e8b05cf53",
      "6957c611ba2a48218121901770940a11"
     ]
    },
    "executionInfo": {
     "elapsed": 23782,
     "status": "ok",
     "timestamp": 1730338149043,
     "user": {
      "displayName": "Marcela Flaibani",
      "userId": "06388299677795656548"
     },
     "user_tz": 180
    },
    "id": "Da6R_CS1XimX",
    "outputId": "2916f2bd-1864-4942-8ce2-da05513c4799"
   },
   "outputs": [
    {
     "name": "stdout",
     "output_type": "stream",
     "text": [
      "Modelos cargados con éxito.\n"
     ]
    },
    {
     "data": {
      "application/vnd.jupyter.widget-view+json": {
       "model_id": "3009f463749c4fc5a989ceb9da1dd6f9",
       "version_major": 2,
       "version_minor": 0
      },
      "text/plain": [
       "Text(value='', description='¿Cómo te sientes?', layout=Layout(width='400px'), placeholder='Describe tu estado …"
      ]
     },
     "metadata": {},
     "output_type": "display_data"
    },
    {
     "data": {
      "application/vnd.jupyter.widget-view+json": {
       "model_id": "7f73f1a71f7749cb816ca02b9158ecf4",
       "version_major": 2,
       "version_minor": 0
      },
      "text/plain": [
       "Text(value='', description='¿Cuáles son tus preferencias?:', layout=Layout(width='400px'), placeholder='Escrib…"
      ]
     },
     "metadata": {},
     "output_type": "display_data"
    },
    {
     "data": {
      "application/vnd.jupyter.widget-view+json": {
       "model_id": "89aa047f06b84240b308f980fb17f726",
       "version_major": 2,
       "version_minor": 0
      },
      "text/plain": [
       "Button(description='Recomendaciones', style=ButtonStyle())"
      ]
     },
     "metadata": {},
     "output_type": "display_data"
    },
    {
     "data": {
      "application/vnd.jupyter.widget-view+json": {
       "model_id": "aaa1900148c74b5ea6918d338c48a6ab",
       "version_major": 2,
       "version_minor": 0
      },
      "text/plain": [
       "Output()"
      ]
     },
     "metadata": {},
     "output_type": "display_data"
    }
   ],
   "source": [
    "# URL del archivo en GitHub\n",
    "url = \"https://github.com/flaibani/NLP/raw/main/modelo_LR_Em.joblib\"\n",
    "# Cargar el modelo\n",
    "model_LR_Em= load_model_github(url)\n",
    "\n",
    "# URLs crudas de los archivos en GitHub\n",
    "movie_url = 'https://github.com/flaibani/NLP/raw/main/movie_embeddings.pt'\n",
    "game_url = 'https://github.com/flaibani/NLP/raw/main/game_embeddings.pt'\n",
    "book_url = 'https://github.com/flaibani/NLP/raw/main/book_embeddings.pt'\n",
    "# Cargar los embeddings\n",
    "movie_embeddings = download_and_load(movie_url)\n",
    "game_embeddings = download_and_load(game_url)\n",
    "book_embeddings = download_and_load(book_url)\n",
    "print(\"Modelos cargados con éxito.\")\n",
    "\n",
    "# Cargar los archivos .csv (Películas, Juegos y Libros)\n",
    "df_movies = pd.read_csv('https://github.com/flaibani/NLP/raw/main/IMDB-Movie-Data.csv')\n",
    "df_games = pd.read_csv('https://github.com/flaibani/NLP/raw/main/bgg_database.csv')\n",
    "df_books = pd.read_csv('https://github.com/flaibani/NLP/raw/main/gutenberg_books_detailed.csv')\n",
    "\n",
    "# Combinar columnas de interés y llenar los NaN con texto vacío\n",
    "df_movies['full_description'] = (\n",
    "    df_movies['Genre'].fillna('') + ' ' +\n",
    "    df_movies['Description'].fillna('') + ' ' +\n",
    "    df_movies['Director'].fillna('') + ' ' +\n",
    "    df_movies['Actors'].fillna('')\n",
    ")\n",
    "\n",
    "df_games['full_description'] = (\n",
    "    df_games['game_name'].fillna('') + ' ' +\n",
    "    df_games['description'].fillna('') + ' ' +\n",
    "    df_games['categories'].fillna('')\n",
    ")\n",
    "\n",
    "df_books['full_description'] = (\n",
    "    df_books['Title'].fillna('') + ' ' +\n",
    "    df_books['Author'].fillna('') + ' ' +\n",
    "    df_books['Summary'].fillna('') + ' ' +\n",
    "    df_books['Subjects'].fillna('')\n",
    ")\n",
    "\n",
    "movies_desc = df_movies['full_description']\n",
    "games_desc = df_games['full_description']\n",
    "books_desc = df_books['full_description']\n",
    "\n",
    "# Inicializar el modelo de embeddings\n",
    "model_mood = SentenceTransformer('intfloat/multilingual-e5-small')\n",
    "model_pref = SentenceTransformer('intfloat/multilingual-e5-small')\n",
    "\n",
    "# Cargar modelo y tokenizador para traducción\n",
    "model_name_es_en = 'Helsinki-NLP/opus-mt-es-en'  # Modelo para español a inglés\n",
    "model_es_en = MarianMTModel.from_pretrained(model_name_es_en)\n",
    "tokenizer_es_en = MarianTokenizer.from_pretrained(model_name_es_en)\n",
    "\n",
    "model_name_en_es = 'Helsinki-NLP/opus-mt-en-es'  # Modelo para inglés a español\n",
    "model_en_es = MarianMTModel.from_pretrained(model_name_en_es)\n",
    "tokenizer_en_es = MarianTokenizer.from_pretrained(model_name_en_es)\n",
    "\n",
    "# Crear widgets de interfaz con tamaño ajustado\n",
    "mood_input = widgets.Text(\n",
    "    description=\"¿Cómo te sientes?\",\n",
    "    placeholder=\"Describe tu estado de ánimo (ej., feliz, pensativo...)\",\n",
    "    style={'description_width': '200px'},  # Ancho de la etiqueta\n",
    "    layout=widgets.Layout(width='400px')  # Ancho de la caja de texto\n",
    ")\n",
    "\n",
    "preference_input = widgets.Text(\n",
    "    description=\"¿Cuáles son tus preferencias?:\",\n",
    "    placeholder=\"Escribe tu preferencia (ej., aventura, comedia...)\",\n",
    "    style={'description_width': '200px'},\n",
    "    layout=widgets.Layout(width='400px')\n",
    ")\n",
    "\n",
    "button = widgets.Button(description=\"Recomendaciones\")\n",
    "output = widgets.Output()\n",
    "# Función para manejar la solicitud del usuario y mostrar resultados\n",
    "def on_button_clicked(b):\n",
    "    with output:\n",
    "        output.clear_output()  # Limpiar salida anterior\n",
    "\n",
    "        # Obtener estado de ánimo\n",
    "        user_mood = mood_input.value\n",
    "        user_mood_en = get_mood(model_mood, model_LR_Em, user_mood)\n",
    "        # Obtener preferencia del usuario\n",
    "        user_preference = preference_input.value\n",
    "        user_preference_en = translate(model_es_en, tokenizer_es_en, model_en_es, tokenizer_en_es, user_preference, 'en')\n",
    "        # Combinar preferencia y estado de ánimo\n",
    "        user_preference_mood_en = user_preference_en + \" \" + user_mood_en\n",
    "\n",
    "        # Obtener recomendaciones usando los embeddings ya calculados\n",
    "        movie_recommendations = get_recommendations(model_pref, movie_embeddings, user_preference_mood_en, df_movies['Title'])\n",
    "        game_recommendations = get_recommendations(model_pref,game_embeddings, user_preference_mood_en, df_games['game_name'])\n",
    "        book_recommendations = get_recommendations(model_pref,book_embeddings, user_preference_mood_en, df_books['Title'])\n",
    "\n",
    "        # Mostrar recomendaciones\n",
    "        print(\"\\nPelículas recomendadas:\")\n",
    "        for title, score in movie_recommendations:\n",
    "            print(f\"- {title} (Similitud: {score:.2f})\")\n",
    "            # Obtener la descripción y manejar valores nulos o vacíos\n",
    "            description_text = df_movies[df_movies['Title'] == title]['Description'].iloc[0]\n",
    "            if pd.notna(description_text) and description_text.strip() != \"\":\n",
    "                description = translate(model_es_en, tokenizer_es_en, model_en_es, tokenizer_en_es, description_text, 'es')\n",
    "            else:\n",
    "                description = \"Descripción no disponible.\"\n",
    "            # print(f\"  Descripción: {description}\")\n",
    "            # Imprimir la descripción en fragmentos\n",
    "            print(\"  Descripción:\")\n",
    "            for i in range(0, len(description), 100):\n",
    "                print(description[i:i+100])  # Imprimir fragmentos de 200 caracteres\n",
    "            print(\"-\" * 80)                  # Separador entre elementos\n",
    "\n",
    "        print(\"\\nJuegos de mesa recomendados:\")\n",
    "        for name, score in game_recommendations:\n",
    "            print(f\"- {name} (Similitud: {score:.2f})\")\n",
    "\n",
    "        print(\"\\nLibros recomendados:\")\n",
    "        for title, score in book_recommendations:\n",
    "            print(f\"- {title} (Similitud: {score:.2f})\")\n",
    "            # Obtener el resumen y manejar valores nulos o vacíos\n",
    "            description_text = df_books[df_books['Title'] == title]['Summary'].iloc[0]\n",
    "            if pd.notna(description_text) and description_text.strip() != \"\":\n",
    "                description = translate(model_es_en, tokenizer_es_en, model_en_es, tokenizer_en_es, description_text, 'es')\n",
    "            else:\n",
    "                description = \"Descripción no disponible.\"\n",
    "            # print(f\"  Descripción: {description}\")\n",
    "            # Imprimir la descripción en fragmentos\n",
    "            print(\"  Descripción:\")\n",
    "            for i in range(0, len(description), 100):\n",
    "                print(description[i:i+100])  # Imprimir fragmentos de 200 caracteres\n",
    "            print(\"-\" * 80)                  # Separador entre elementos\n",
    "\n",
    "# Eliminar el evento si fue asignado previamente\n",
    "button.on_click(on_button_clicked)  # Remueve el vínculo previo si se vuelve a ejecutar la celda\n",
    "button.on_click(on_button_clicked)  # Asigna un nuevo vínculo\n",
    "\n",
    "# Mostrar interfaz\n",
    "display(mood_input, preference_input, button, output)"
   ]
  }
 ],
 "metadata": {
  "colab": {
   "authorship_tag": "ABX9TyMh0BsFdmF1qA0PgzlkgcDZ",
   "provenance": []
  },
  "kernelspec": {
   "display_name": "Python 3",
   "name": "python3"
  },
  "language_info": {
   "codemirror_mode": {
    "name": "ipython",
    "version": 3
   },
   "file_extension": ".py",
   "mimetype": "text/x-python",
   "name": "python",
   "nbconvert_exporter": "python",
   "pygments_lexer": "ipython3",
   "version": "3.10.7"
  },
  "widgets": {
   "application/vnd.jupyter.widget-state+json": {
    "02d8e9359111442ba6c4339eaff5a070": {
     "model_module": "@jupyter-widgets/base",
     "model_module_version": "1.2.0",
     "model_name": "LayoutModel",
     "state": {
      "_model_module": "@jupyter-widgets/base",
      "_model_module_version": "1.2.0",
      "_model_name": "LayoutModel",
      "_view_count": null,
      "_view_module": "@jupyter-widgets/base",
      "_view_module_version": "1.2.0",
      "_view_name": "LayoutView",
      "align_content": null,
      "align_items": null,
      "align_self": null,
      "border": null,
      "bottom": null,
      "display": null,
      "flex": null,
      "flex_flow": null,
      "grid_area": null,
      "grid_auto_columns": null,
      "grid_auto_flow": null,
      "grid_auto_rows": null,
      "grid_column": null,
      "grid_gap": null,
      "grid_row": null,
      "grid_template_areas": null,
      "grid_template_columns": null,
      "grid_template_rows": null,
      "height": null,
      "justify_content": null,
      "justify_items": null,
      "left": null,
      "margin": null,
      "max_height": null,
      "max_width": null,
      "min_height": null,
      "min_width": null,
      "object_fit": null,
      "object_position": null,
      "order": null,
      "overflow": null,
      "overflow_x": null,
      "overflow_y": null,
      "padding": null,
      "right": null,
      "top": null,
      "visibility": null,
      "width": "400px"
     }
    },
    "249d2ce8398a4b27b4f8ee1bbec99269": {
     "model_module": "@jupyter-widgets/controls",
     "model_module_version": "1.5.0",
     "model_name": "ButtonModel",
     "state": {
      "_dom_classes": [],
      "_model_module": "@jupyter-widgets/controls",
      "_model_module_version": "1.5.0",
      "_model_name": "ButtonModel",
      "_view_count": null,
      "_view_module": "@jupyter-widgets/controls",
      "_view_module_version": "1.5.0",
      "_view_name": "ButtonView",
      "button_style": "",
      "description": "Recomendaciones",
      "disabled": false,
      "icon": "",
      "layout": "IPY_MODEL_6a6bd78a5e9e4e3491247cbd0e9d4371",
      "style": "IPY_MODEL_6f2bbb6d433c4b12b6bec22cf25b9255",
      "tooltip": ""
     }
    },
    "6957c611ba2a48218121901770940a11": {
     "model_module": "@jupyter-widgets/base",
     "model_module_version": "1.2.0",
     "model_name": "LayoutModel",
     "state": {
      "_model_module": "@jupyter-widgets/base",
      "_model_module_version": "1.2.0",
      "_model_name": "LayoutModel",
      "_view_count": null,
      "_view_module": "@jupyter-widgets/base",
      "_view_module_version": "1.2.0",
      "_view_name": "LayoutView",
      "align_content": null,
      "align_items": null,
      "align_self": null,
      "border": null,
      "bottom": null,
      "display": null,
      "flex": null,
      "flex_flow": null,
      "grid_area": null,
      "grid_auto_columns": null,
      "grid_auto_flow": null,
      "grid_auto_rows": null,
      "grid_column": null,
      "grid_gap": null,
      "grid_row": null,
      "grid_template_areas": null,
      "grid_template_columns": null,
      "grid_template_rows": null,
      "height": null,
      "justify_content": null,
      "justify_items": null,
      "left": null,
      "margin": null,
      "max_height": null,
      "max_width": null,
      "min_height": null,
      "min_width": null,
      "object_fit": null,
      "object_position": null,
      "order": null,
      "overflow": null,
      "overflow_x": null,
      "overflow_y": null,
      "padding": null,
      "right": null,
      "top": null,
      "visibility": null,
      "width": null
     }
    },
    "6a6bd78a5e9e4e3491247cbd0e9d4371": {
     "model_module": "@jupyter-widgets/base",
     "model_module_version": "1.2.0",
     "model_name": "LayoutModel",
     "state": {
      "_model_module": "@jupyter-widgets/base",
      "_model_module_version": "1.2.0",
      "_model_name": "LayoutModel",
      "_view_count": null,
      "_view_module": "@jupyter-widgets/base",
      "_view_module_version": "1.2.0",
      "_view_name": "LayoutView",
      "align_content": null,
      "align_items": null,
      "align_self": null,
      "border": null,
      "bottom": null,
      "display": null,
      "flex": null,
      "flex_flow": null,
      "grid_area": null,
      "grid_auto_columns": null,
      "grid_auto_flow": null,
      "grid_auto_rows": null,
      "grid_column": null,
      "grid_gap": null,
      "grid_row": null,
      "grid_template_areas": null,
      "grid_template_columns": null,
      "grid_template_rows": null,
      "height": null,
      "justify_content": null,
      "justify_items": null,
      "left": null,
      "margin": null,
      "max_height": null,
      "max_width": null,
      "min_height": null,
      "min_width": null,
      "object_fit": null,
      "object_position": null,
      "order": null,
      "overflow": null,
      "overflow_x": null,
      "overflow_y": null,
      "padding": null,
      "right": null,
      "top": null,
      "visibility": null,
      "width": null
     }
    },
    "6f2bbb6d433c4b12b6bec22cf25b9255": {
     "model_module": "@jupyter-widgets/controls",
     "model_module_version": "1.5.0",
     "model_name": "ButtonStyleModel",
     "state": {
      "_model_module": "@jupyter-widgets/controls",
      "_model_module_version": "1.5.0",
      "_model_name": "ButtonStyleModel",
      "_view_count": null,
      "_view_module": "@jupyter-widgets/base",
      "_view_module_version": "1.2.0",
      "_view_name": "StyleView",
      "button_color": null,
      "font_weight": ""
     }
    },
    "751b90faafe04d37a845b52a35a9632c": {
     "model_module": "@jupyter-widgets/base",
     "model_module_version": "1.2.0",
     "model_name": "LayoutModel",
     "state": {
      "_model_module": "@jupyter-widgets/base",
      "_model_module_version": "1.2.0",
      "_model_name": "LayoutModel",
      "_view_count": null,
      "_view_module": "@jupyter-widgets/base",
      "_view_module_version": "1.2.0",
      "_view_name": "LayoutView",
      "align_content": null,
      "align_items": null,
      "align_self": null,
      "border": null,
      "bottom": null,
      "display": null,
      "flex": null,
      "flex_flow": null,
      "grid_area": null,
      "grid_auto_columns": null,
      "grid_auto_flow": null,
      "grid_auto_rows": null,
      "grid_column": null,
      "grid_gap": null,
      "grid_row": null,
      "grid_template_areas": null,
      "grid_template_columns": null,
      "grid_template_rows": null,
      "height": null,
      "justify_content": null,
      "justify_items": null,
      "left": null,
      "margin": null,
      "max_height": null,
      "max_width": null,
      "min_height": null,
      "min_width": null,
      "object_fit": null,
      "object_position": null,
      "order": null,
      "overflow": null,
      "overflow_x": null,
      "overflow_y": null,
      "padding": null,
      "right": null,
      "top": null,
      "visibility": null,
      "width": "400px"
     }
    },
    "7657644b06f5462e9edabdaec74b2fc6": {
     "model_module": "@jupyter-widgets/controls",
     "model_module_version": "1.5.0",
     "model_name": "TextModel",
     "state": {
      "_dom_classes": [],
      "_model_module": "@jupyter-widgets/controls",
      "_model_module_version": "1.5.0",
      "_model_name": "TextModel",
      "_view_count": null,
      "_view_module": "@jupyter-widgets/controls",
      "_view_module_version": "1.5.0",
      "_view_name": "TextView",
      "continuous_update": true,
      "description": "¿Cómo te sientes?",
      "description_tooltip": null,
      "disabled": false,
      "layout": "IPY_MODEL_751b90faafe04d37a845b52a35a9632c",
      "placeholder": "Describe tu estado de ánimo (ej., feliz, pensativo...)",
      "style": "IPY_MODEL_eb77873f3eca454cad901aff6892eaa3",
      "value": ""
     }
    },
    "b8dea8236fe4421f925a856e8b05cf53": {
     "model_module": "@jupyter-widgets/output",
     "model_module_version": "1.0.0",
     "model_name": "OutputModel",
     "state": {
      "_dom_classes": [],
      "_model_module": "@jupyter-widgets/output",
      "_model_module_version": "1.0.0",
      "_model_name": "OutputModel",
      "_view_count": null,
      "_view_module": "@jupyter-widgets/output",
      "_view_module_version": "1.0.0",
      "_view_name": "OutputView",
      "layout": "IPY_MODEL_6957c611ba2a48218121901770940a11",
      "msg_id": "",
      "outputs": []
     }
    },
    "cac20ec86c3849528d82c563f3b39b92": {
     "model_module": "@jupyter-widgets/controls",
     "model_module_version": "1.5.0",
     "model_name": "DescriptionStyleModel",
     "state": {
      "_model_module": "@jupyter-widgets/controls",
      "_model_module_version": "1.5.0",
      "_model_name": "DescriptionStyleModel",
      "_view_count": null,
      "_view_module": "@jupyter-widgets/base",
      "_view_module_version": "1.2.0",
      "_view_name": "StyleView",
      "description_width": "200px"
     }
    },
    "e87c10a5e14a482a8eef9a0d02f67343": {
     "model_module": "@jupyter-widgets/controls",
     "model_module_version": "1.5.0",
     "model_name": "TextModel",
     "state": {
      "_dom_classes": [],
      "_model_module": "@jupyter-widgets/controls",
      "_model_module_version": "1.5.0",
      "_model_name": "TextModel",
      "_view_count": null,
      "_view_module": "@jupyter-widgets/controls",
      "_view_module_version": "1.5.0",
      "_view_name": "TextView",
      "continuous_update": true,
      "description": "¿Cuáles son tus preferencias?:",
      "description_tooltip": null,
      "disabled": false,
      "layout": "IPY_MODEL_02d8e9359111442ba6c4339eaff5a070",
      "placeholder": "Escribe tu preferencia (ej., aventura, comedia...)",
      "style": "IPY_MODEL_cac20ec86c3849528d82c563f3b39b92",
      "value": ""
     }
    },
    "eb77873f3eca454cad901aff6892eaa3": {
     "model_module": "@jupyter-widgets/controls",
     "model_module_version": "1.5.0",
     "model_name": "DescriptionStyleModel",
     "state": {
      "_model_module": "@jupyter-widgets/controls",
      "_model_module_version": "1.5.0",
      "_model_name": "DescriptionStyleModel",
      "_view_count": null,
      "_view_module": "@jupyter-widgets/base",
      "_view_module_version": "1.2.0",
      "_view_name": "StyleView",
      "description_width": "200px"
     }
    }
   }
  }
 },
 "nbformat": 4,
 "nbformat_minor": 0
}
